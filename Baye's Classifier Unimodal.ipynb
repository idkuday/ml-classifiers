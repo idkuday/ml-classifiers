{
 "cells": [
  {
   "cell_type": "code",
   "execution_count": 114,
   "id": "6ee337bc",
   "metadata": {},
   "outputs": [],
   "source": [
    "import pandas as pd\n",
    "import numpy as np\n",
    "from matplotlib import pyplot as plt\n",
    "import math\n",
    "from sklearn.metrics import confusion_matrix as cm\n",
    "from sklearn.metrics import precision_recall_fscore_support as prf"
   ]
  },
  {
   "cell_type": "code",
   "execution_count": 137,
   "id": "49850d12",
   "metadata": {},
   "outputs": [
    {
     "ename": "IndentationError",
     "evalue": "unindent does not match any outer indentation level (<tokenize>, line 43)",
     "output_type": "error",
     "traceback": [
      "\u001b[1;36m  File \u001b[1;32m\"<tokenize>\"\u001b[1;36m, line \u001b[1;32m43\u001b[0m\n\u001b[1;33m    p2 = [self.calcBayes(i,u2,cov_avg),2]\u001b[0m\n\u001b[1;37m    ^\u001b[0m\n\u001b[1;31mIndentationError\u001b[0m\u001b[1;31m:\u001b[0m unindent does not match any outer indentation level\n"
     ]
    }
   ],
   "source": [
    "class BayesClassifier:\n",
    "    def __init__(self, cl1, cl2, cl3):\n",
    "        #Loading Training Data \n",
    "        self.c1 =  np.array(pd.read_csv(\"./classification\"+cl1, header = None, delimiter = ' ').values.tolist())\n",
    "        self.c2 =  np.array(pd.read_csv(\"./classification\"+cl2, header = None, delimiter = ' ').values.tolist())\n",
    "        self.c3 =  np.array(pd.read_csv(\"./classification\"+cl3, header = None, delimiter = ' ').values.tolist())\n",
    "        self.u1 =  np.mean(self.c1,axis=0,dtype = np.float64)\n",
    "        self.u2 =  np.mean(self.c2,axis=0,dtype = np.float64)\n",
    "        self.u3 =  np.mean(self.c3,axis=0,dtype = np.float64)\n",
    "        self.cov1 = np.cov(self.c1[:,0],self.c1[:,1])\n",
    "        self.cov2 = np.cov(self.c2[:,0],self.c2[:,1])\n",
    "        self.cov3 = np.cov(self.c3[:,0],self.c3[:,1])\n",
    "        e1 = (1/3)*(self.cov1[0][0]+self.cov2[0][0]+self.cov3[0][0])\n",
    "        e2 = (1/3)*(self.cov1[0][1]+self.cov2[0][1]+self.cov3[0][1])\n",
    "        e3 = (1/3)*(self.cov1[1][0]+self.cov2[1][0]+self.cov3[1][0])    \n",
    "        e4 = (1/3)*(self.cov1[1][1]+self.cov2[1][1]+self.cov3[1][1])\n",
    "        self.cov_avg = np.array([[e1,e2],[e3,e4]]) \n",
    "\n",
    "        \n",
    "\n",
    "    def calcBayes(self,x,u,cov):\n",
    "        e=2.7183\n",
    "        pi=3.142\n",
    "        d=[]\n",
    "        covinv=[[cov[1][1],-1*cov[0][1]],[-1*cov[1][0],cov[0][0]]]\n",
    "        d=[x[0]-u[0],x[1]-u[1]]\n",
    "        d1=covinv[0][0]*d[0]+covinv[0][1]*d[1]\n",
    "        d2=covinv[1][0]*d[0]+covinv[1][1]*d[1]\n",
    "        val=(-0.5*(d[0]*d1+d[1]*d2))\n",
    "        covdet=(abs(cov[0][0]*cov[1][1]-cov[0][1]*cov[1][0]))**0.5\n",
    "        res=math.log(1/(2*pi*covdet))*val\n",
    "        return res\n",
    "    \n",
    "    \n",
    "    \n",
    "    def model1(self, x):\n",
    "        u1,u2=self.u1,self.u2\n",
    "        u3 =self.u3\n",
    "        Y_predicted=[]\n",
    "        cov_avg=[[self.cov_avg[0][0],0],[0,self.cov_avg[1][1]]]\n",
    "        for i in x:\n",
    "            p1 = [self.calcBayes(i,u1,cov_avg),1]\n",
    "           p2 = [self.calcBayes(i,u2,cov_avg),2]    \n",
    "#             p3 = [self.calcBayes(i,u3,cov_avg),3]\n",
    "            p=[p1,p2]\n",
    "            Y_predicted.append(p[(p.index(max(p)))][1]) \n",
    "        return (Y_predicted)\n",
    "        \n",
    "    def model2(self,x):\n",
    "        u1,u2=self.u1,self.u2\n",
    "        u3 =self.u3\n",
    "        cov=self.cov_avg    \n",
    "        Y_predicted=[]        \n",
    "        for i in x:\n",
    "            p1 = [self.calcBayes(i,u1,cov),1]\n",
    "           p2 = [self.calcBayes(i,u2,cov),2]    \n",
    "#             p3 = [self.calcBayes(i,u3,cov),3]\n",
    "            p=[p1,p2]\n",
    "            Y_predicted.append(p[(p.index(max(p)))][1])\n",
    "        return (Y_predicted)        \n",
    "        \n",
    "    def model3(self,x):\n",
    "        u1,u2=self.u1,self.u2\n",
    "        u3 =self.u3\n",
    "        Y_predicted=[]\n",
    "        cov_d1 = [[self.cov1[0][0],0],[0,self.cov1[1][1]]]\n",
    "        cov_d2 = [[self.cov2[0][0],0],[0,self.cov2[1][1]]]\n",
    "        cov_d3 = [[self.cov3[0][0],0],[0,self.cov3[1][1]]]\n",
    "        for i in x:\n",
    "            p1 = [self.calcBayes(i,u1,cov_d1),1]\n",
    "            p2 = [self.calcBayes(i,u2,cov_d2),2]    \n",
    "#             p3 = [self.calcBayes(i,u3,cov_d3),3]\n",
    "            p=[p1,p2]\n",
    "            Y_predicted.append(p[(p.index(max(p)))][1])\n",
    "        return (Y_predicted)\n",
    "\n",
    "    def model4(self,x):\n",
    "        u1,u2=self.u1,self.u2\n",
    "        u3 =self.u3        \n",
    "        Y_predicted=[]        \n",
    "        for i in x:\n",
    "            p1 = [self.calcBayes(i,u1,self.cov1),1]\n",
    "            p2 = [self.calcBayes(i,u2,self.cov2),2]    \n",
    "#             p3 = [self.calcBayes(i,u3,self.cov3),3]\n",
    "            p=[p1,p2]\n",
    "            Y_predicted.append(p[(p.index(max(p)))][1])\n",
    "        return (Y_predicted)\n",
    "        \n",
    "        \n",
    "    \n",
    "    def classify(self, points, model_number):\n",
    "        v ={1:\"1\",2:\"2\",\n",
    "           3:\"3\",\n",
    "           4:\"4\",}\n",
    "        m = v.get(model_number,\"NA\")\n",
    "        if m==\"1\":\n",
    "            return self.model1(points)\n",
    "        elif m==\"2\":\n",
    "            return self.model2(points)\n",
    "        elif m==\"3\":\n",
    "            return self.model3(points)\n",
    "        elif m==\"4\":\n",
    "            return self.model4(points)\n",
    "        else:\n",
    "            print(\"Invalid Choice!!\")\n",
    "            "
   ]
  },
  {
   "cell_type": "code",
   "execution_count": 138,
   "id": "d18fd72c",
   "metadata": {},
   "outputs": [],
   "source": [
    "cl1 = \"/overlapping/class1_train.txt\"\n",
    "cl2=\"/overlapping/class2_train.txt\"\n",
    "cl3=\"/overlapping/class3_train.txt\"\n",
    "ob = BayesClassifier(cl1,cl2,cl3)\n",
    "d = pd.DataFrame({'x':[],'y':[],'class':[]})\n",
    "df = pd.read_csv(\"./classification\"+cl1, header =None,delimiter = ' ')\n",
    "c1 = np.array(df.values.tolist())\n",
    "df = pd.read_csv(\"./classification\"+cl2, header =None,delimiter = ' ')\n",
    "c2 = np.array(df.values.tolist())\n",
    "df = pd.read_csv(\"./classification\"+cl3, header =None,delimiter = ' ')\n",
    "c3 = np.array(df.values.tolist())\n",
    "\n",
    "for i in range(len(c1)):\n",
    "     d.loc[len(d.index)]=[c1[i][0],c1[i][1],1]\n",
    "for i in range(len(c2)):\n",
    "    d.loc[len(d.index)]=[c2[i][0],c2[i][1],2]\n",
    "# for i in range(len(c1)):\n",
    "#     d.loc[len(d.index)]=[c3[i][0],c3[i][1],3]\n",
    "\n",
    "\n",
    "df = pd.read_csv(\"./classification/overlapping/class1_test.txt\", header =None,delimiter = ' ')\n",
    "c1 = c1 = np.array(df.values.tolist())\n",
    "df = pd.read_csv(\"./classification/overlapping/class2_test.txt\", header =None,delimiter = ' ')\n",
    "c2 = np.array(df.values.tolist())\n",
    "df = pd.read_csv(\"./classification/overlapping/class3_test.txt\", header =None,delimiter = ' ')\n",
    "c3 = np.array(df.values.tolist())\n",
    "# a.classify(c1)"
   ]
  },
  {
   "cell_type": "code",
   "execution_count": 142,
   "id": "e82e4e40",
   "metadata": {},
   "outputs": [
    {
     "data": {
      "text/plain": [
       "<function matplotlib.pyplot.show(close=None, block=None)>"
      ]
     },
     "execution_count": 142,
     "metadata": {},
     "output_type": "execute_result"
    },
    {
     "data": {
      "image/png": "[encoded data removed]",
      "text/plain": [
       "<Figure size 432x288 with 1 Axes>"
      ]
     },
     "metadata": {
      "needs_background": "light"
     },
     "output_type": "display_data"
    }
   ],
   "source": [
    "mini = d.min()\n",
    "maxi = d.max()\n",
    "\n",
    "xgrid = np.arange(mini[0], maxi[0], 0.1)\n",
    "ygrid = np.arange(mini[1], maxi[1], 0.1)\n",
    "xx,yy=np.meshgrid(xgrid,ygrid)\n",
    "r1, r2 = xx.flatten(), yy.flatten()\n",
    "r1, r2 = r1.reshape((len(r1), 1)), r2.reshape((len(r2), 1))\n",
    "grid = np.hstack((r1,r2))\n",
    "g=np.array(ob.model4(grid))\n",
    "z=g.reshape(yy.shape)\n",
    "plt.contourf(xx, yy, z, colors=['#009cff','#ebff00','#ffac00','#b055f1','g'])\n",
    "plt.scatter(c1[:,0],c1[:,1],color='red',label='Class1')\n",
    "plt.scatter(c2[:,0],c2[:,1],color='green',label='Class2')\n",
    "# plt.scatter(c3[:,0],c3[:,1],color='blue',label='Class3')\n",
    "plt.xlabel('x')\n",
    "plt.ylabel('y')\n",
    "plt.title('Bayes-Model 4 - Class 1 vs Class 2')\n",
    "plt.legend()\n",
    "plt.show"
   ]
  },
  {
   "cell_type": "code",
   "execution_count": 133,
   "id": "e1b72453",
   "metadata": {},
   "outputs": [],
   "source": [
    "def metrics(model):\n",
    "    #For cm and other values\n",
    "    c4 = np.concatenate((c1,c2,c3))\n",
    "    class1_freq = np.array(c1[:,0])\n",
    "    for i in range(0,c1[:,0].size):\n",
    "        class1_freq[i] = 1\n",
    "    class2_freq = np.array(c2[:,0])\n",
    "    for i in range(0,c2[:,0].size):\n",
    "        class2_freq[i] = 2\n",
    "    class3_freq = np.array(c3[:,0])\n",
    "    for i in range(0,c3[:,0].size):\n",
    "        class3_freq[i] = 3    \n",
    "    class_freq = np.concatenate((class1_freq,class2_freq,class3_freq))\n",
    "\n",
    "    #consusion matrix\n",
    "    a=ob.classify(c4,model)\n",
    "    print(a)\n",
    "    cm1 = cm(class_freq,a)\n",
    "\n",
    "    #Other Required Values\n",
    "    prf1 = prf(class_freq,a)\n",
    "    precision = prf1[0]\n",
    "    recall =prf1[1]\n",
    "    f1_score = prf1[2]\n",
    "    recall\n",
    "    acc_counter = 0\n",
    "    for i in range(0,class_freq.size):\n",
    "        if class_freq[i]== a[i]:\n",
    "            acc_counter += 1\n",
    "    accuracy = (acc_counter)/(class_freq.size)\n",
    "    print(\"Accuracy = \" + str(accuracy))\n",
    "    print(\"Precision = \" + str(precision))\n",
    "    print(\"Recall = \" + str(recall))\n",
    "    print(\"F1_Score = \" + str(f1_score))\n",
    "    \n"
   ]
  },
  {
   "cell_type": "code",
   "execution_count": 10,
   "id": "01e74b6f",
   "metadata": {},
   "outputs": [
    {
     "name": "stdout",
     "output_type": "stream",
     "text": [
      "[3, 2, 2, 3, 3, 2, 2, 2, 3, 2, 3, 2, 2, 2, 2, 2, 2, 2, 2, 2, 3, 3, 3, 2, 2, 2, 2, 2, 2, 2, 2, 2, 3, 3, 3, 2, 2, 2, 2, 2, 3, 3, 2, 2, 2, 2, 2, 3, 3, 2, 2, 2, 2, 2, 3, 2, 2, 2, 3, 3, 3, 2, 3, 3, 2, 3, 3, 2, 3, 3, 3, 3, 2, 3, 2, 2, 2, 2, 3, 3, 2, 3, 2, 3, 3, 2, 2, 2, 2, 3, 3, 3, 3, 3, 2, 2, 3, 2, 2, 3, 1, 3, 3, 3, 3, 3, 3, 3, 3, 1, 3, 3, 3, 3, 3, 3, 3, 3, 3, 3, 3, 3, 3, 3, 3, 3, 3, 1, 3, 1, 3, 3, 3, 3, 3, 1, 3, 3, 3, 1, 3, 1, 3, 3, 1, 3, 1, 3, 3, 3, 3, 3, 1, 3, 3, 3, 1, 3, 3, 3, 3, 3, 3, 3, 3, 3, 3, 3, 3, 3, 3, 3, 3, 1, 1, 3, 3, 3, 3, 3, 3, 3, 1, 3, 3, 3, 3, 3, 3, 3, 3, 3, 3, 3, 3, 1, 1, 3, 3, 1, 2, 2, 2, 2, 2, 2, 2, 2, 2, 2, 2, 2, 2, 2, 2, 2, 2, 2, 2, 2, 2, 2, 2, 2, 2, 2, 2, 2, 2, 2, 2, 2, 2, 2, 2, 2, 2, 2, 2, 2, 2, 2, 2, 2, 2, 2, 2, 2, 2, 2, 2, 2, 2, 2, 2, 2, 2, 2, 2, 2, 2, 2, 2, 2, 2, 2, 2, 2, 2, 2, 2, 2, 2, 2, 2, 2, 2, 2, 2, 2, 2, 2, 2, 2, 2, 2, 2, 2, 2, 2, 2, 2, 2, 2, 2, 2, 2, 2, 2, 2]\n",
      "Accuracy = 0.0\n",
      "Precision = [0. 0. 0.]\n",
      "Recall = [0. 0. 0.]\n",
      "F1_Score = [0. 0. 0.]\n"
     ]
    }
   ],
   "source": [
    "metrics(3)"
   ]
  },
  {
   "cell_type": "code",
   "execution_count": 31,
   "id": "32f916f1",
   "metadata": {},
   "outputs": [
    {
     "data": {
      "text/plain": [
       "(39, 40)"
      ]
     },
     "execution_count": 31,
     "metadata": {},
     "output_type": "execute_result"
    }
   ],
   "source": [
    "xx.shape\n"
   ]
  },
  {
   "cell_type": "code",
   "execution_count": null,
   "id": "b45b622a",
   "metadata": {},
   "outputs": [],
   "source": []
  }
 ],
 "metadata": {
  "kernelspec": {
   "display_name": "Python 3 (ipykernel)",
   "language": "python",
   "name": "python3"
  },
  "language_info": {
   "codemirror_mode": {
    "name": "ipython",
    "version": 3
   },
   "file_extension": ".py",
   "mimetype": "text/x-python",
   "name": "python",
   "nbconvert_exporter": "python",
   "pygments_lexer": "ipython3",
   "version": "3.9.7"
  }
 },
 "nbformat": 4,
 "nbformat_minor": 5
}
