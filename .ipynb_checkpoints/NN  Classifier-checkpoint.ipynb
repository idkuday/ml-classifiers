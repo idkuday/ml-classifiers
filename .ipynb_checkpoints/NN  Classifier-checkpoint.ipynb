{
 "cells": [
  {
   "cell_type": "code",
   "execution_count": 3,
   "id": "3557d1d6",
   "metadata": {},
   "outputs": [],
   "source": [
    "import pandas as pd\n",
    "import numpy as np\n",
    "import matplotlib.pyplot as plt\n"
   ]
  },
  {
   "cell_type": "code",
   "execution_count": 4,
   "id": "50fabe98",
   "metadata": {},
   "outputs": [],
   "source": [
    "class NearestNeighbour:\n",
    "    \n",
    "    def __init__(self, cl1, cl2, cl3):\n",
    "        #Storing Training Data \n",
    "        self.c1 =  np.array(pd.read_csv(\"./classification/\"+cl1, header = None, delimiter = ' ').values.tolist())\n",
    "        self.c2 =  np.array(pd.read_csv(\"./classification/\"+cl2, header = None, delimiter = ' ').values.tolist())\n",
    "        self.c3 =  np.array(pd.read_csv(\"./classification/\"+cl3, header = None, delimiter = ' ').values.tolist())\n",
    "    \n",
    "    def find_neighbours(self,point):\n",
    "        dist = list()\n",
    "        \n",
    "        for i in self.c1 :\n",
    "            dist.append([np.linalg.norm(point-i),'1'])\n",
    "\n",
    "        for i in self.c2:\n",
    "            dist.append([np.linalg.norm(point-i),'2'])\n",
    "        \n",
    "        for i in self.c3:\n",
    "            dist.append([np.linalg.norm(point-i),'3'])\n",
    "        \n",
    "        dist.sort(key = lambda dist:dist[0]) #lambda for sorting criteria\n",
    "        return dist\n",
    "    def classify(self,points):\n",
    "        Y_predicted = []\n",
    "        for i in points:\n",
    "            NN = self.find_neighbours(points)\n",
    "            Y_predicted.append(int(NN[0][1]))\n",
    "        print(Y_predicted)"
   ]
  },
  {
   "cell_type": "code",
   "execution_count": 5,
   "id": "858f83c9",
   "metadata": {},
   "outputs": [
    {
     "name": "stdout",
     "output_type": "stream",
     "text": [
      "[2, 2, 2, 2, 2, 2, 2, 2, 2, 2, 2, 2, 2, 2, 2, 2, 2, 2, 2, 2, 2, 2, 2, 2, 2, 2, 2, 2, 2, 2, 2, 2, 2, 2, 2, 2, 2, 2, 2, 2, 2, 2, 2, 2, 2, 2, 2, 2, 2, 2, 2, 2, 2, 2, 2, 2, 2, 2, 2, 2, 2, 2, 2, 2, 2, 2, 2, 2, 2, 2, 2, 2, 2, 2, 2, 2, 2, 2, 2, 2, 2, 2, 2, 2, 2, 2, 2, 2, 2, 2, 2, 2, 2, 2, 2, 2, 2, 2, 2, 2, 2, 2, 2, 2, 2, 2, 2, 2, 2, 2, 2, 2, 2, 2, 2, 2, 2, 2, 2, 2, 2, 2, 2, 2, 2, 2, 2, 2, 2, 2, 2, 2, 2, 2, 2, 2, 2, 2, 2, 2, 2, 2, 2, 2, 2, 2, 2, 2, 2, 2]\n"
     ]
    }
   ],
   "source": [
    "cl1 = \"/linearlySeparable/class1_train.txt\"\n",
    "cl2=\"/linearlySeparable/class2_train.txt\"\n",
    "cl3=\"/linearlySeparable/class3_train.txt\"\n",
    "a = NearestNeighbour(cl1,cl2,cl3)"
   ]
  },
  {
   "cell_type": "code",
   "execution_count": 6,
   "id": "3175e627",
   "metadata": {},
   "outputs": [],
   "source": [
    "d = pd.DataFrame({'x':[],'y':[],'class':[]})\n",
    "df = pd.read_csv(\"./classification\"+cl1, header =None,delimiter = ' ')\n",
    "c1 = np.array(df.values.tolist())\n",
    "df = pd.read_csv(\"./classification\"+cl2, header =None,delimiter = ' ')\n",
    "c2 = np.array(df.values.tolist())\n",
    "df = pd.read_csv(\"./classification\"+cl3, header =None,delimiter = ' ')\n",
    "c3 = np.array(df.values.tolist())\n",
    "\n",
    "for i in range(len(c1)):\n",
    "    d.loc[len(d.index)]=[c1[i][0],c1[i][1],1]\n",
    "for i in range(len(c2)):\n",
    "    d.loc[len(d.index)]=[c2[i][0],c2[i][1],2]\n",
    "for i in range(len(c1)):\n",
    "    d.loc[len(d.index)]=[c3[i][0],c3[i][1],3]\n",
    "\n",
    "\n",
    "df = pd.read_csv(\"./classification/linearlySeparable/class1_test.txt\", header =None,delimiter = ' ')\n",
    "c1 = c1 = np.array(df.values.tolist())\n",
    "df = pd.read_csv(\"./classification/linearlySeparable/class2_test.txt\", header =None,delimiter = ' ')\n",
    "c2 = np.array(df.values.tolist())\n",
    "df = pd.read_csv(\"./classification/linearlySeparable/class3_test.txt\", header =None,delimiter = ' ')\n",
    "c3 = np.array(df.values.tolist())"
   ]
  },
  {
   "cell_type": "code",
   "execution_count": 7,
   "id": "a15a43e8",
   "metadata": {},
   "outputs": [
    {
     "ename": "KeyboardInterrupt",
     "evalue": "",
     "output_type": "error",
     "traceback": [
      "\u001b[1;31m---------------------------------------------------------------------------\u001b[0m",
      "\u001b[1;31mKeyboardInterrupt\u001b[0m                         Traceback (most recent call last)",
      "\u001b[1;32m~\\AppData\\Local\\Temp/ipykernel_15300/1675505314.py\u001b[0m in \u001b[0;36m<module>\u001b[1;34m\u001b[0m\n\u001b[0;32m      8\u001b[0m \u001b[0mr1\u001b[0m\u001b[1;33m,\u001b[0m \u001b[0mr2\u001b[0m \u001b[1;33m=\u001b[0m \u001b[0mr1\u001b[0m\u001b[1;33m.\u001b[0m\u001b[0mreshape\u001b[0m\u001b[1;33m(\u001b[0m\u001b[1;33m(\u001b[0m\u001b[0mlen\u001b[0m\u001b[1;33m(\u001b[0m\u001b[0mr1\u001b[0m\u001b[1;33m)\u001b[0m\u001b[1;33m,\u001b[0m \u001b[1;36m1\u001b[0m\u001b[1;33m)\u001b[0m\u001b[1;33m)\u001b[0m\u001b[1;33m,\u001b[0m \u001b[0mr2\u001b[0m\u001b[1;33m.\u001b[0m\u001b[0mreshape\u001b[0m\u001b[1;33m(\u001b[0m\u001b[1;33m(\u001b[0m\u001b[0mlen\u001b[0m\u001b[1;33m(\u001b[0m\u001b[0mr2\u001b[0m\u001b[1;33m)\u001b[0m\u001b[1;33m,\u001b[0m \u001b[1;36m1\u001b[0m\u001b[1;33m)\u001b[0m\u001b[1;33m)\u001b[0m\u001b[1;33m\u001b[0m\u001b[1;33m\u001b[0m\u001b[0m\n\u001b[0;32m      9\u001b[0m \u001b[0mgrid\u001b[0m \u001b[1;33m=\u001b[0m \u001b[0mnp\u001b[0m\u001b[1;33m.\u001b[0m\u001b[0mhstack\u001b[0m\u001b[1;33m(\u001b[0m\u001b[1;33m(\u001b[0m\u001b[0mr1\u001b[0m\u001b[1;33m,\u001b[0m\u001b[0mr2\u001b[0m\u001b[1;33m)\u001b[0m\u001b[1;33m)\u001b[0m\u001b[1;33m\u001b[0m\u001b[1;33m\u001b[0m\u001b[0m\n\u001b[1;32m---> 10\u001b[1;33m \u001b[0mg\u001b[0m\u001b[1;33m=\u001b[0m\u001b[0mnp\u001b[0m\u001b[1;33m.\u001b[0m\u001b[0marray\u001b[0m\u001b[1;33m(\u001b[0m\u001b[0ma\u001b[0m\u001b[1;33m.\u001b[0m\u001b[0mclassify\u001b[0m\u001b[1;33m(\u001b[0m\u001b[0mgrid\u001b[0m\u001b[1;33m)\u001b[0m\u001b[1;33m)\u001b[0m\u001b[1;33m\u001b[0m\u001b[1;33m\u001b[0m\u001b[0m\n\u001b[0m\u001b[0;32m     11\u001b[0m \u001b[0mz\u001b[0m\u001b[1;33m=\u001b[0m\u001b[0mg\u001b[0m\u001b[1;33m.\u001b[0m\u001b[0mreshape\u001b[0m\u001b[1;33m(\u001b[0m\u001b[0myy\u001b[0m\u001b[1;33m.\u001b[0m\u001b[0mshape\u001b[0m\u001b[1;33m)\u001b[0m\u001b[1;33m\u001b[0m\u001b[1;33m\u001b[0m\u001b[0m\n",
      "\u001b[1;32m~\\AppData\\Local\\Temp/ipykernel_15300/63333767.py\u001b[0m in \u001b[0;36mclassify\u001b[1;34m(self, points)\u001b[0m\n\u001b[0;32m     24\u001b[0m         \u001b[0mY_predicted\u001b[0m \u001b[1;33m=\u001b[0m \u001b[1;33m[\u001b[0m\u001b[1;33m]\u001b[0m\u001b[1;33m\u001b[0m\u001b[1;33m\u001b[0m\u001b[0m\n\u001b[0;32m     25\u001b[0m         \u001b[1;32mfor\u001b[0m \u001b[0mi\u001b[0m \u001b[1;32min\u001b[0m \u001b[0mpoints\u001b[0m\u001b[1;33m:\u001b[0m\u001b[1;33m\u001b[0m\u001b[1;33m\u001b[0m\u001b[0m\n\u001b[1;32m---> 26\u001b[1;33m             \u001b[0mNN\u001b[0m \u001b[1;33m=\u001b[0m \u001b[0mself\u001b[0m\u001b[1;33m.\u001b[0m\u001b[0mfind_neighbours\u001b[0m\u001b[1;33m(\u001b[0m\u001b[0mpoints\u001b[0m\u001b[1;33m)\u001b[0m\u001b[1;33m\u001b[0m\u001b[1;33m\u001b[0m\u001b[0m\n\u001b[0m\u001b[0;32m     27\u001b[0m             \u001b[0mY_predicted\u001b[0m\u001b[1;33m.\u001b[0m\u001b[0mappend\u001b[0m\u001b[1;33m(\u001b[0m\u001b[0mint\u001b[0m\u001b[1;33m(\u001b[0m\u001b[0mNN\u001b[0m\u001b[1;33m[\u001b[0m\u001b[1;36m0\u001b[0m\u001b[1;33m]\u001b[0m\u001b[1;33m[\u001b[0m\u001b[1;36m1\u001b[0m\u001b[1;33m]\u001b[0m\u001b[1;33m)\u001b[0m\u001b[1;33m)\u001b[0m\u001b[1;33m\u001b[0m\u001b[1;33m\u001b[0m\u001b[0m\n\u001b[0;32m     28\u001b[0m         \u001b[0mprint\u001b[0m\u001b[1;33m(\u001b[0m\u001b[0mY_predicted\u001b[0m\u001b[1;33m)\u001b[0m\u001b[1;33m\u001b[0m\u001b[1;33m\u001b[0m\u001b[0m\n",
      "\u001b[1;32m~\\AppData\\Local\\Temp/ipykernel_15300/63333767.py\u001b[0m in \u001b[0;36mfind_neighbours\u001b[1;34m(self, point)\u001b[0m\n\u001b[0;32m     11\u001b[0m \u001b[1;33m\u001b[0m\u001b[0m\n\u001b[0;32m     12\u001b[0m         \u001b[1;32mfor\u001b[0m \u001b[0mi\u001b[0m \u001b[1;32min\u001b[0m \u001b[0mself\u001b[0m\u001b[1;33m.\u001b[0m\u001b[0mc1\u001b[0m \u001b[1;33m:\u001b[0m\u001b[1;33m\u001b[0m\u001b[1;33m\u001b[0m\u001b[0m\n\u001b[1;32m---> 13\u001b[1;33m             \u001b[0mdist\u001b[0m\u001b[1;33m.\u001b[0m\u001b[0mappend\u001b[0m\u001b[1;33m(\u001b[0m\u001b[1;33m[\u001b[0m\u001b[0mnp\u001b[0m\u001b[1;33m.\u001b[0m\u001b[0mlinalg\u001b[0m\u001b[1;33m.\u001b[0m\u001b[0mnorm\u001b[0m\u001b[1;33m(\u001b[0m\u001b[0mpoint\u001b[0m\u001b[1;33m-\u001b[0m\u001b[0mi\u001b[0m\u001b[1;33m)\u001b[0m\u001b[1;33m,\u001b[0m\u001b[1;34m'1'\u001b[0m\u001b[1;33m]\u001b[0m\u001b[1;33m)\u001b[0m\u001b[1;33m\u001b[0m\u001b[1;33m\u001b[0m\u001b[0m\n\u001b[0m\u001b[0;32m     14\u001b[0m \u001b[1;33m\u001b[0m\u001b[0m\n\u001b[0;32m     15\u001b[0m         \u001b[1;32mfor\u001b[0m \u001b[0mi\u001b[0m \u001b[1;32min\u001b[0m \u001b[0mself\u001b[0m\u001b[1;33m.\u001b[0m\u001b[0mc2\u001b[0m\u001b[1;33m:\u001b[0m\u001b[1;33m\u001b[0m\u001b[1;33m\u001b[0m\u001b[0m\n",
      "\u001b[1;31mKeyboardInterrupt\u001b[0m: "
     ]
    }
   ],
   "source": [
    "mini = d.min()\n",
    "maxi = d.max()\n",
    "\n",
    "xgrid = np.arange(mini[0], maxi[0], 0.1)\n",
    "ygrid = np.arange(mini[1], maxi[1], 0.1)\n",
    "xx,yy=np.meshgrid(xgrid,ygrid)\n",
    "r1, r2 = xx.flatten(), yy.flatten()\n",
    "r1, r2 = r1.reshape((len(r1), 1)), r2.reshape((len(r2), 1))\n",
    "grid = np.hstack((r1,r2))\n",
    "g=np.array(a.classify(grid))\n",
    "z=g.reshape(yy.shape)\n"
   ]
  },
  {
   "cell_type": "code",
   "execution_count": null,
   "id": "25cd338d",
   "metadata": {},
   "outputs": [],
   "source": [
    "plt.contourf( xx,yy ,z, colors=['#009cff','#ebff00','#ffac00','#b055f1'])\n",
    "plt.scatter(c1[:,0],c1[:,1],color='red',label='Class1')\n",
    "plt.scatter(c2[:,0],c2[:,1],color='green',label='Class2')\n",
    "plt.scatter(c3[:,0],c3[:,1],color='blue',label='Class3')\n",
    "plt.xlabel('x1')\n",
    "plt.ylabel('x2')\n",
    "plt.title('NN Plot')\n",
    "plt.legend()\n",
    "plt.show"
   ]
  }
 ],
 "metadata": {
  "kernelspec": {
   "display_name": "Python 3 (ipykernel)",
   "language": "python",
   "name": "python3"
  },
  "language_info": {
   "codemirror_mode": {
    "name": "ipython",
    "version": 3
   },
   "file_extension": ".py",
   "mimetype": "text/x-python",
   "name": "python",
   "nbconvert_exporter": "python",
   "pygments_lexer": "ipython3",
   "version": "3.9.7"
  }
 },
 "nbformat": 4,
 "nbformat_minor": 5
}
