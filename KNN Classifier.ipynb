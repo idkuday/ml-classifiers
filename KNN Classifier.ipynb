{
 "cells": [
  {
   "cell_type": "code",
   "execution_count": 9,
   "id": "82cbdeba",
   "metadata": {},
   "outputs": [],
   "source": [
    "import pandas as pd\n",
    "import numpy as np\n",
    "import matplotlib.pyplot as plt\n",
    "import matplotlib.colors"
   ]
  },
  {
   "cell_type": "code",
   "execution_count": 10,
   "id": "05c09b1b",
   "metadata": {},
   "outputs": [],
   "source": [
    "class KNN:\n",
    "    \n",
    "    def __init__(self, cl1, cl2, cl3,k=2):\n",
    "        #Loading Training Data \n",
    "        self.c1 =  np.array(pd.read_csv(\"./classification/\"+cl1, header = None, delimiter = ' ').values.tolist())\n",
    "        self.c2 =  np.array(pd.read_csv(\"./classification/\"+cl2, header = None, delimiter = ' ').values.tolist())\n",
    "        self.c3 =  np.array(pd.read_csv(\"./classification/\"+cl3, header = None, delimiter = ' ').values.tolist())\n",
    "        self.k = k\n",
    "    \n",
    "    def find_neighbours(self,point):\n",
    "        dist = list()\n",
    "        \n",
    "        for i in self.c1 :\n",
    "            dist.append([np.linalg.norm(point-i),'1'])\n",
    "\n",
    "        for i in self.c2:\n",
    "            dist.append([np.linalg.norm(point-i),'2'])\n",
    "        \n",
    "        for i in self.c3:\n",
    "            dist.append([np.linalg.norm(point-i),'3'])\n",
    "        \n",
    "        dist.sort(key = lambda dist:dist[0]) #lambda for sorting criteria\n",
    "        return dist\n",
    "    \n",
    "    \n",
    "    def classify(self,points):\n",
    "        Y_predicted = []\n",
    "        for i in points:\n",
    "            NNa = self.find_neighbours(i)\n",
    "            count =[0,0,0]\n",
    "            NN =NNa[:self.k]\n",
    "            for j in NN:\n",
    "                count[int(j[1])-1] +=1\n",
    "                \n",
    "            Y_predicted.append(count.index(max(count))+1)\n",
    "        return(Y_predicted)"
   ]
  },
  {
   "cell_type": "code",
   "execution_count": 11,
   "id": "26d05f60",
   "metadata": {},
   "outputs": [],
   "source": [
    "cl1 = \"/nonlinearlySeparable/class1_train.txt\"\n",
    "cl2=\"/nonlinearlySeparable/class2_train.txt\"\n",
    "cl3=\"/nonlinearlySeparable/class3_train.txt\"\n",
    "a=KNN(cl1,cl2,cl3,k=6)\n",
    "d = pd.DataFrame({'x':[],'y':[],'class':[]})\n",
    "df = pd.read_csv(\"./classification\"+cl1, header =None,delimiter = ' ')\n",
    "c1 = np.array(df.values.tolist())\n",
    "df = pd.read_csv(\"./classification\"+cl2, header =None,delimiter = ' ')\n",
    "c2 = np.array(df.values.tolist())\n",
    "df = pd.read_csv(\"./classification\"+cl3, header =None,delimiter = ' ')\n",
    "c3 = np.array(df.values.tolist())\n",
    "\n",
    "for i in range(len(c1)):\n",
    "    d.loc[len(d.index)]=[c1[i][0],c1[i][1],1]\n",
    "for i in range(len(c2)):\n",
    "    d.loc[len(d.index)]=[c2[i][0],c2[i][1],2]\n",
    "for i in range(len(c1)):\n",
    "     d.loc[len(d.index)]=[c3[i][0],c3[i][1],3]\n",
    "\n",
    "\n",
    "df = pd.read_csv(\"./classification/nonlinearlySeparable/class1_test.txt\", header =None,delimiter = ' ')\n",
    "c1 = c1 = np.array(df.values.tolist())\n",
    "df = pd.read_csv(\"./classification/nonlinearlySeparable/class2_test.txt\", header =None,delimiter = ' ')\n",
    "c2 = np.array(df.values.tolist())\n",
    "df = pd.read_csv(\"./classification/nonlinearlySeparable/class3_test.txt\", header =None,delimiter = ' ')\n",
    "c3 = np.array(df.values.tolist())\n",
    "# a.classify(c1)\n"
   ]
  },
  {
   "cell_type": "code",
   "execution_count": 12,
   "id": "24e2e54f",
   "metadata": {},
   "outputs": [],
   "source": [
    "mini = d.min()\n",
    "maxi = d.max()\n",
    "\n",
    "xgrid = np.arange(mini[0], maxi[0], 0.1)\n",
    "ygrid = np.arange(mini[1], maxi[1], 0.1)\n",
    "xx,yy=np.meshgrid(xgrid,ygrid)\n",
    "r1, r2 = xx.flatten(), yy.flatten()\n",
    "r1, r2 = r1.reshape((len(r1), 1)), r2.reshape((len(r2), 1))\n",
    "grid = np.hstack((r1,r2))\n",
    "g=np.array(a.classify(grid))\n",
    "z=g.reshape(yy.shape)\n"
   ]
  },
  {
   "cell_type": "code",
   "execution_count": 13,
   "id": "5dac86b8",
   "metadata": {},
   "outputs": [
    {
     "data": {
      "text/plain": [
       "<function matplotlib.pyplot.show(close=None, block=None)>"
      ]
     },
     "execution_count": 13,
     "metadata": {},
     "output_type": "execute_result"
    },
    {
     "data": {
      "image/png": "[encoded data removed]",
      "text/plain": [
       "<Figure size 432x288 with 1 Axes>"
      ]
     },
     "metadata": {
      "needs_background": "light"
     },
     "output_type": "display_data"
    }
   ],
   "source": [
    "\n",
    "plt.contourf( xx,yy ,z, colors=['#ffff00', 'g', '#00ffff', '#00ff00', 'g'])\n",
    "# plt.scatter(c1[:,0],c1[:,1],color='red',label='Class1')\n",
    "# plt.scatter(c2[:,0],c2[:,1],color='green',label='Class2')\n",
    "# plt.scatter(c3[:,0],c3[:,1],color='blue',label='Class3')\n",
    "plt.xlabel('x')\n",
    "plt.ylabel('y')\n",
    "plt.title('KNN Class 2 vs Class 3')\n",
    "plt.legend()\n",
    "plt.show\n",
    "\n",
    "# yy.size\n",
    "# xx.size\n",
    "\n",
    "\n",
    "\n"
   ]
  },
  {
   "cell_type": "code",
   "execution_count": 14,
   "id": "1dd140e4",
   "metadata": {},
   "outputs": [
    {
     "data": {
      "text/plain": [
       "3.0554000000000054"
      ]
     },
     "execution_count": 14,
     "metadata": {},
     "output_type": "execute_result"
    }
   ],
   "source": [
    "yy.max()\n"
   ]
  },
  {
   "cell_type": "code",
   "execution_count": null,
   "id": "ab28d338",
   "metadata": {},
   "outputs": [],
   "source": []
  }
 ],
 "metadata": {
  "kernelspec": {
   "display_name": "Python 3 (ipykernel)",
   "language": "python",
   "name": "python3"
  },
  "language_info": {
   "codemirror_mode": {
    "name": "ipython",
    "version": 3
   },
   "file_extension": ".py",
   "mimetype": "text/x-python",
   "name": "python",
   "nbconvert_exporter": "python",
   "pygments_lexer": "ipython3",
   "version": "3.9.7"
  }
 },
 "nbformat": 4,
 "nbformat_minor": 5
}
